{
 "cells": [
  {
   "cell_type": "markdown",
   "id": "37449544",
   "metadata": {
    "papermill": {
     "duration": 0.010434,
     "end_time": "2022-06-14T05:44:12.868402",
     "exception": false,
     "start_time": "2022-06-14T05:44:12.857968",
     "status": "completed"
    },
    "tags": []
   },
   "source": [
    "**This notebook is an exercise in the [Pandas](https://www.kaggle.com/learn/pandas) course.  You can reference the tutorial at [this link](https://www.kaggle.com/residentmario/creating-reading-and-writing).**\n",
    "\n",
    "---\n"
   ]
  },
  {
   "cell_type": "code",
   "execution_count": null,
   "id": "1eb4bf38",
   "metadata": {
    "papermill": {
     "duration": 0.006119,
     "end_time": "2022-06-14T05:44:12.881039",
     "exception": false,
     "start_time": "2022-06-14T05:44:12.874920",
     "status": "completed"
    },
    "tags": []
   },
   "outputs": [],
   "source": []
  },
  {
   "cell_type": "code",
   "execution_count": null,
   "id": "4323b996",
   "metadata": {
    "papermill": {
     "duration": 0.005586,
     "end_time": "2022-06-14T05:44:12.893124",
     "exception": false,
     "start_time": "2022-06-14T05:44:12.887538",
     "status": "completed"
    },
    "tags": []
   },
   "outputs": [],
   "source": []
  },
  {
   "cell_type": "markdown",
   "id": "1b1cad52",
   "metadata": {
    "papermill": {
     "duration": 0.006171,
     "end_time": "2022-06-14T05:44:12.905214",
     "exception": false,
     "start_time": "2022-06-14T05:44:12.899043",
     "status": "completed"
    },
    "tags": []
   },
   "source": [
    "# Introduction\n",
    "\n",
    "The first step in most data analytics projects is reading the data file. In this exercise, you'll create Series and DataFrame objects, both by hand and by reading data files.\n",
    "\n",
    "Run the code cell below to load libraries you will need (including code to check your answers)."
   ]
  },
  {
   "cell_type": "code",
   "execution_count": 1,
   "id": "90c9b798",
   "metadata": {
    "execution": {
     "iopub.execute_input": "2022-06-14T05:44:12.921117Z",
     "iopub.status.busy": "2022-06-14T05:44:12.920249Z",
     "iopub.status.idle": "2022-06-14T05:44:14.737514Z",
     "shell.execute_reply": "2022-06-14T05:44:14.736569Z"
    },
    "papermill": {
     "duration": 1.829535,
     "end_time": "2022-06-14T05:44:14.741395",
     "exception": false,
     "start_time": "2022-06-14T05:44:12.911860",
     "status": "completed"
    },
    "tags": []
   },
   "outputs": [
    {
     "name": "stdout",
     "output_type": "stream",
     "text": [
      "Setup complete.\n"
     ]
    }
   ],
   "source": [
    "import pandas as pd\n",
    "pd.set_option('max_rows', 5)\n",
    "from learntools.core import binder; binder.bind(globals())\n",
    "from learntools.pandas.creating_reading_and_writing import *\n",
    "print(\"Setup complete.\")"
   ]
  },
  {
   "cell_type": "markdown",
   "id": "fc09240c",
   "metadata": {
    "papermill": {
     "duration": 0.005996,
     "end_time": "2022-06-14T05:44:14.754428",
     "exception": false,
     "start_time": "2022-06-14T05:44:14.748432",
     "status": "completed"
    },
    "tags": []
   },
   "source": [
    "# Exercises"
   ]
  },
  {
   "cell_type": "markdown",
   "id": "e741c372",
   "metadata": {
    "papermill": {
     "duration": 0.00584,
     "end_time": "2022-06-14T05:44:14.766887",
     "exception": false,
     "start_time": "2022-06-14T05:44:14.761047",
     "status": "completed"
    },
    "tags": []
   },
   "source": [
    "## 1.\n",
    "\n",
    "In the cell below, create a DataFrame `fruits` that looks like this:\n",
    "\n",
    "![](https://i.imgur.com/Ax3pp2A.png)"
   ]
  },
  {
   "cell_type": "code",
   "execution_count": 2,
   "id": "c7058de3",
   "metadata": {
    "execution": {
     "iopub.execute_input": "2022-06-14T05:44:14.782043Z",
     "iopub.status.busy": "2022-06-14T05:44:14.781201Z",
     "iopub.status.idle": "2022-06-14T05:44:14.793738Z",
     "shell.execute_reply": "2022-06-14T05:44:14.792967Z"
    },
    "papermill": {
     "duration": 0.02258,
     "end_time": "2022-06-14T05:44:14.795698",
     "exception": false,
     "start_time": "2022-06-14T05:44:14.773118",
     "status": "completed"
    },
    "tags": []
   },
   "outputs": [
    {
     "data": {
      "application/javascript": [
       "parent.postMessage({\"jupyterEvent\": \"custom.exercise_interaction\", \"data\": {\"outcomeType\": 4, \"interactionType\": 1, \"questionType\": 1, \"questionId\": \"1_FruitDfCreation\", \"learnToolsVersion\": \"0.3.4\", \"valueTowardsCompletion\": 0.0, \"failureMessage\": \"\", \"exceptionClass\": \"\", \"trace\": \"\"}}, \"*\")"
      ],
      "text/plain": [
       "<IPython.core.display.Javascript object>"
      ]
     },
     "metadata": {},
     "output_type": "display_data"
    },
    {
     "data": {
      "text/markdown": [
       "<span style=\"color:#ccaa33\">Check:</span> When you've updated the starter code, `check()` will tell you whether your code is correct. You need to update the code that creates variable `fruits`"
      ],
      "text/plain": [
       "Check: When you've updated the starter code, `check()` will tell you whether your code is correct. You need to update the code that creates variable `fruits`"
      ]
     },
     "metadata": {},
     "output_type": "display_data"
    },
    {
     "data": {
      "text/markdown": [],
      "text/plain": [
       "<learntools.core.constants.PlaceholderValue at 0x7f1943fe9910>"
      ]
     },
     "execution_count": 2,
     "metadata": {},
     "output_type": "execute_result"
    }
   ],
   "source": [
    "# Your code goes here. Create a dataframe matching the above diagram and assign it to the variable fruits.\n",
    "fruits = ____\n",
    "\n",
    "# Check your answer\n",
    "q1.check()\n",
    "fruits"
   ]
  },
  {
   "cell_type": "code",
   "execution_count": 3,
   "id": "c14f1596",
   "metadata": {
    "execution": {
     "iopub.execute_input": "2022-06-14T05:44:14.812934Z",
     "iopub.status.busy": "2022-06-14T05:44:14.811827Z",
     "iopub.status.idle": "2022-06-14T05:44:14.817508Z",
     "shell.execute_reply": "2022-06-14T05:44:14.816682Z"
    },
    "papermill": {
     "duration": 0.016979,
     "end_time": "2022-06-14T05:44:14.819762",
     "exception": false,
     "start_time": "2022-06-14T05:44:14.802783",
     "status": "completed"
    },
    "tags": []
   },
   "outputs": [],
   "source": [
    "#q1.hint()\n",
    "#q1.solution()"
   ]
  },
  {
   "cell_type": "markdown",
   "id": "a34d4f94",
   "metadata": {
    "papermill": {
     "duration": 0.006771,
     "end_time": "2022-06-14T05:44:14.833443",
     "exception": false,
     "start_time": "2022-06-14T05:44:14.826672",
     "status": "completed"
    },
    "tags": []
   },
   "source": [
    "## 2.\n",
    "\n",
    "Create a dataframe `fruit_sales` that matches the diagram below:\n",
    "\n",
    "![](https://i.imgur.com/CHPn7ZF.png)"
   ]
  },
  {
   "cell_type": "code",
   "execution_count": 4,
   "id": "e7bd19c7",
   "metadata": {
    "execution": {
     "iopub.execute_input": "2022-06-14T05:44:14.850279Z",
     "iopub.status.busy": "2022-06-14T05:44:14.849496Z",
     "iopub.status.idle": "2022-06-14T05:44:14.859488Z",
     "shell.execute_reply": "2022-06-14T05:44:14.858553Z"
    },
    "papermill": {
     "duration": 0.020828,
     "end_time": "2022-06-14T05:44:14.861689",
     "exception": false,
     "start_time": "2022-06-14T05:44:14.840861",
     "status": "completed"
    },
    "tags": []
   },
   "outputs": [
    {
     "data": {
      "application/javascript": [
       "parent.postMessage({\"jupyterEvent\": \"custom.exercise_interaction\", \"data\": {\"outcomeType\": 4, \"interactionType\": 1, \"questionType\": 1, \"questionId\": \"2_FruitSalesDfCreation\", \"learnToolsVersion\": \"0.3.4\", \"valueTowardsCompletion\": 0.0, \"failureMessage\": \"\", \"exceptionClass\": \"\", \"trace\": \"\"}}, \"*\")"
      ],
      "text/plain": [
       "<IPython.core.display.Javascript object>"
      ]
     },
     "metadata": {},
     "output_type": "display_data"
    },
    {
     "data": {
      "text/markdown": [
       "<span style=\"color:#ccaa33\">Check:</span> When you've updated the starter code, `check()` will tell you whether your code is correct. You need to update the code that creates variable `fruit_sales`"
      ],
      "text/plain": [
       "Check: When you've updated the starter code, `check()` will tell you whether your code is correct. You need to update the code that creates variable `fruit_sales`"
      ]
     },
     "metadata": {},
     "output_type": "display_data"
    },
    {
     "data": {
      "text/markdown": [],
      "text/plain": [
       "<learntools.core.constants.PlaceholderValue at 0x7f1943fe9910>"
      ]
     },
     "execution_count": 4,
     "metadata": {},
     "output_type": "execute_result"
    }
   ],
   "source": [
    "# Your code goes here. Create a dataframe matching the above diagram and assign it to the variable fruit_sales.\n",
    "fruit_sales = ____\n",
    "\n",
    "# Check your answer\n",
    "q2.check()\n",
    "fruit_sales"
   ]
  },
  {
   "cell_type": "code",
   "execution_count": 5,
   "id": "ae95db59",
   "metadata": {
    "execution": {
     "iopub.execute_input": "2022-06-14T05:44:14.878898Z",
     "iopub.status.busy": "2022-06-14T05:44:14.878023Z",
     "iopub.status.idle": "2022-06-14T05:44:14.882907Z",
     "shell.execute_reply": "2022-06-14T05:44:14.881938Z"
    },
    "papermill": {
     "duration": 0.016097,
     "end_time": "2022-06-14T05:44:14.885443",
     "exception": false,
     "start_time": "2022-06-14T05:44:14.869346",
     "status": "completed"
    },
    "tags": []
   },
   "outputs": [],
   "source": [
    "#q2.hint()\n",
    "#q2.solution()"
   ]
  },
  {
   "cell_type": "markdown",
   "id": "b2df2af8",
   "metadata": {
    "papermill": {
     "duration": 0.006827,
     "end_time": "2022-06-14T05:44:14.899526",
     "exception": false,
     "start_time": "2022-06-14T05:44:14.892699",
     "status": "completed"
    },
    "tags": []
   },
   "source": [
    "## 3.\n",
    "\n",
    "Create a variable `ingredients` with a Series that looks like:\n",
    "\n",
    "```\n",
    "Flour     4 cups\n",
    "Milk       1 cup\n",
    "Eggs     2 large\n",
    "Spam       1 can\n",
    "Name: Dinner, dtype: object\n",
    "```"
   ]
  },
  {
   "cell_type": "code",
   "execution_count": 6,
   "id": "c3802f92",
   "metadata": {
    "execution": {
     "iopub.execute_input": "2022-06-14T05:44:14.916164Z",
     "iopub.status.busy": "2022-06-14T05:44:14.915278Z",
     "iopub.status.idle": "2022-06-14T05:44:14.927262Z",
     "shell.execute_reply": "2022-06-14T05:44:14.925936Z"
    },
    "papermill": {
     "duration": 0.022971,
     "end_time": "2022-06-14T05:44:14.929628",
     "exception": false,
     "start_time": "2022-06-14T05:44:14.906657",
     "status": "completed"
    },
    "tags": []
   },
   "outputs": [
    {
     "data": {
      "application/javascript": [
       "parent.postMessage({\"jupyterEvent\": \"custom.exercise_interaction\", \"data\": {\"outcomeType\": 4, \"interactionType\": 1, \"questionType\": 2, \"questionId\": \"3_RecipeSeriesCreation\", \"learnToolsVersion\": \"0.3.4\", \"valueTowardsCompletion\": 0.0, \"failureMessage\": \"\", \"exceptionClass\": \"\", \"trace\": \"\"}}, \"*\")"
      ],
      "text/plain": [
       "<IPython.core.display.Javascript object>"
      ]
     },
     "metadata": {},
     "output_type": "display_data"
    },
    {
     "data": {
      "text/markdown": [
       "<span style=\"color:#ccaa33\">Check:</span> When you've updated the starter code, `check()` will tell you whether your code is correct. You need to update the code that creates variable `ingredients`"
      ],
      "text/plain": [
       "Check: When you've updated the starter code, `check()` will tell you whether your code is correct. You need to update the code that creates variable `ingredients`"
      ]
     },
     "metadata": {},
     "output_type": "display_data"
    },
    {
     "data": {
      "text/markdown": [],
      "text/plain": [
       "<learntools.core.constants.PlaceholderValue at 0x7f1943fe9910>"
      ]
     },
     "execution_count": 6,
     "metadata": {},
     "output_type": "execute_result"
    }
   ],
   "source": [
    "ingredients = ____\n",
    "\n",
    "# Check your answer\n",
    "q3.check()\n",
    "ingredients"
   ]
  },
  {
   "cell_type": "code",
   "execution_count": 7,
   "id": "e171b1ca",
   "metadata": {
    "execution": {
     "iopub.execute_input": "2022-06-14T05:44:14.948479Z",
     "iopub.status.busy": "2022-06-14T05:44:14.947775Z",
     "iopub.status.idle": "2022-06-14T05:44:14.952530Z",
     "shell.execute_reply": "2022-06-14T05:44:14.951394Z"
    },
    "papermill": {
     "duration": 0.017165,
     "end_time": "2022-06-14T05:44:14.954771",
     "exception": false,
     "start_time": "2022-06-14T05:44:14.937606",
     "status": "completed"
    },
    "tags": []
   },
   "outputs": [],
   "source": [
    "#q3.hint()\n",
    "#q3.solution()"
   ]
  },
  {
   "cell_type": "markdown",
   "id": "f1a71ffc",
   "metadata": {
    "papermill": {
     "duration": 0.007329,
     "end_time": "2022-06-14T05:44:14.970134",
     "exception": false,
     "start_time": "2022-06-14T05:44:14.962805",
     "status": "completed"
    },
    "tags": []
   },
   "source": [
    "## 4.\n",
    "\n",
    "Read the following csv dataset of wine reviews into a DataFrame called `reviews`:\n",
    "\n",
    "![](https://i.imgur.com/74RCZtU.png)\n",
    "\n",
    "The filepath to the csv file is `../input/wine-reviews/winemag-data_first150k.csv`. The first few lines look like:\n",
    "\n",
    "```\n",
    ",country,description,designation,points,price,province,region_1,region_2,variety,winery\n",
    "0,US,\"This tremendous 100% varietal wine[...]\",Martha's Vineyard,96,235.0,California,Napa Valley,Napa,Cabernet Sauvignon,Heitz\n",
    "1,Spain,\"Ripe aromas of fig, blackberry and[...]\",Carodorum Selección Especial Reserva,96,110.0,Northern Spain,Toro,,Tinta de Toro,Bodega Carmen Rodríguez\n",
    "```"
   ]
  },
  {
   "cell_type": "code",
   "execution_count": 8,
   "id": "a661db41",
   "metadata": {
    "execution": {
     "iopub.execute_input": "2022-06-14T05:44:14.987943Z",
     "iopub.status.busy": "2022-06-14T05:44:14.987480Z",
     "iopub.status.idle": "2022-06-14T05:44:14.998635Z",
     "shell.execute_reply": "2022-06-14T05:44:14.997648Z"
    },
    "papermill": {
     "duration": 0.022434,
     "end_time": "2022-06-14T05:44:15.000638",
     "exception": false,
     "start_time": "2022-06-14T05:44:14.978204",
     "status": "completed"
    },
    "tags": []
   },
   "outputs": [
    {
     "data": {
      "application/javascript": [
       "parent.postMessage({\"jupyterEvent\": \"custom.exercise_interaction\", \"data\": {\"outcomeType\": 4, \"interactionType\": 1, \"questionType\": 1, \"questionId\": \"4_ReadWineCsv\", \"learnToolsVersion\": \"0.3.4\", \"valueTowardsCompletion\": 0.0, \"failureMessage\": \"\", \"exceptionClass\": \"\", \"trace\": \"\"}}, \"*\")"
      ],
      "text/plain": [
       "<IPython.core.display.Javascript object>"
      ]
     },
     "metadata": {},
     "output_type": "display_data"
    },
    {
     "data": {
      "text/markdown": [
       "<span style=\"color:#ccaa33\">Check:</span> When you've updated the starter code, `check()` will tell you whether your code is correct. You need to update the code that creates variable `reviews`"
      ],
      "text/plain": [
       "Check: When you've updated the starter code, `check()` will tell you whether your code is correct. You need to update the code that creates variable `reviews`"
      ]
     },
     "metadata": {},
     "output_type": "display_data"
    },
    {
     "data": {
      "text/markdown": [],
      "text/plain": [
       "<learntools.core.constants.PlaceholderValue at 0x7f1943fe9910>"
      ]
     },
     "execution_count": 8,
     "metadata": {},
     "output_type": "execute_result"
    }
   ],
   "source": [
    "reviews = ____\n",
    "\n",
    "# Check your answer\n",
    "q4.check()\n",
    "reviews"
   ]
  },
  {
   "cell_type": "code",
   "execution_count": 9,
   "id": "1e0a8d74",
   "metadata": {
    "execution": {
     "iopub.execute_input": "2022-06-14T05:44:15.019634Z",
     "iopub.status.busy": "2022-06-14T05:44:15.018591Z",
     "iopub.status.idle": "2022-06-14T05:44:15.022865Z",
     "shell.execute_reply": "2022-06-14T05:44:15.022045Z"
    },
    "papermill": {
     "duration": 0.016163,
     "end_time": "2022-06-14T05:44:15.024762",
     "exception": false,
     "start_time": "2022-06-14T05:44:15.008599",
     "status": "completed"
    },
    "tags": []
   },
   "outputs": [],
   "source": [
    "#q4.hint()\n",
    "#q4.solution()"
   ]
  },
  {
   "cell_type": "markdown",
   "id": "ba9f2fff",
   "metadata": {
    "papermill": {
     "duration": 0.007731,
     "end_time": "2022-06-14T05:44:15.040788",
     "exception": false,
     "start_time": "2022-06-14T05:44:15.033057",
     "status": "completed"
    },
    "tags": []
   },
   "source": [
    "## 5.\n",
    "\n",
    "Run the cell below to create and display a DataFrame called `animals`:"
   ]
  },
  {
   "cell_type": "code",
   "execution_count": 10,
   "id": "149385b0",
   "metadata": {
    "execution": {
     "iopub.execute_input": "2022-06-14T05:44:15.059932Z",
     "iopub.status.busy": "2022-06-14T05:44:15.059283Z",
     "iopub.status.idle": "2022-06-14T05:44:15.081767Z",
     "shell.execute_reply": "2022-06-14T05:44:15.080867Z"
    },
    "papermill": {
     "duration": 0.034903,
     "end_time": "2022-06-14T05:44:15.084014",
     "exception": false,
     "start_time": "2022-06-14T05:44:15.049111",
     "status": "completed"
    },
    "tags": []
   },
   "outputs": [
    {
     "data": {
      "text/html": [
       "<div>\n",
       "<style scoped>\n",
       "    .dataframe tbody tr th:only-of-type {\n",
       "        vertical-align: middle;\n",
       "    }\n",
       "\n",
       "    .dataframe tbody tr th {\n",
       "        vertical-align: top;\n",
       "    }\n",
       "\n",
       "    .dataframe thead th {\n",
       "        text-align: right;\n",
       "    }\n",
       "</style>\n",
       "<table border=\"1\" class=\"dataframe\">\n",
       "  <thead>\n",
       "    <tr style=\"text-align: right;\">\n",
       "      <th></th>\n",
       "      <th>Cows</th>\n",
       "      <th>Goats</th>\n",
       "    </tr>\n",
       "  </thead>\n",
       "  <tbody>\n",
       "    <tr>\n",
       "      <th>Year 1</th>\n",
       "      <td>12</td>\n",
       "      <td>22</td>\n",
       "    </tr>\n",
       "    <tr>\n",
       "      <th>Year 2</th>\n",
       "      <td>20</td>\n",
       "      <td>19</td>\n",
       "    </tr>\n",
       "  </tbody>\n",
       "</table>\n",
       "</div>"
      ],
      "text/plain": [
       "        Cows  Goats\n",
       "Year 1    12     22\n",
       "Year 2    20     19"
      ]
     },
     "execution_count": 10,
     "metadata": {},
     "output_type": "execute_result"
    }
   ],
   "source": [
    "animals = pd.DataFrame({'Cows': [12, 20], 'Goats': [22, 19]}, index=['Year 1', 'Year 2'])\n",
    "animals"
   ]
  },
  {
   "cell_type": "markdown",
   "id": "c7209c45",
   "metadata": {
    "papermill": {
     "duration": 0.008397,
     "end_time": "2022-06-14T05:44:15.101057",
     "exception": false,
     "start_time": "2022-06-14T05:44:15.092660",
     "status": "completed"
    },
    "tags": []
   },
   "source": [
    "In the cell below, write code to save this DataFrame to disk as a csv file with the name `cows_and_goats.csv`."
   ]
  },
  {
   "cell_type": "code",
   "execution_count": 11,
   "id": "a416ddc4",
   "metadata": {
    "execution": {
     "iopub.execute_input": "2022-06-14T05:44:15.120463Z",
     "iopub.status.busy": "2022-06-14T05:44:15.119902Z",
     "iopub.status.idle": "2022-06-14T05:44:15.127472Z",
     "shell.execute_reply": "2022-06-14T05:44:15.126655Z"
    },
    "papermill": {
     "duration": 0.019759,
     "end_time": "2022-06-14T05:44:15.129365",
     "exception": false,
     "start_time": "2022-06-14T05:44:15.109606",
     "status": "completed"
    },
    "tags": []
   },
   "outputs": [
    {
     "data": {
      "application/javascript": [
       "parent.postMessage({\"jupyterEvent\": \"custom.exercise_interaction\", \"data\": {\"outcomeType\": 2, \"failureMessage\": \"Expected file to exist with name `cows_and_goats.csv`\", \"interactionType\": 1, \"questionType\": 2, \"questionId\": \"5_SaveAnimalsCsv\", \"learnToolsVersion\": \"0.3.4\", \"valueTowardsCompletion\": 0.0, \"exceptionClass\": \"\", \"trace\": \"\"}}, \"*\")"
      ],
      "text/plain": [
       "<IPython.core.display.Javascript object>"
      ]
     },
     "metadata": {},
     "output_type": "display_data"
    },
    {
     "data": {
      "text/markdown": [
       "<span style=\"color:#cc3333\">Incorrect:</span> Expected file to exist with name `cows_and_goats.csv`"
      ],
      "text/plain": [
       "Incorrect: Expected file to exist with name `cows_and_goats.csv`"
      ]
     },
     "metadata": {},
     "output_type": "display_data"
    }
   ],
   "source": [
    "# Your code goes here\n",
    "\n",
    "# Check your answer\n",
    "q5.check()"
   ]
  },
  {
   "cell_type": "code",
   "execution_count": 12,
   "id": "1f237533",
   "metadata": {
    "execution": {
     "iopub.execute_input": "2022-06-14T05:44:15.149442Z",
     "iopub.status.busy": "2022-06-14T05:44:15.148792Z",
     "iopub.status.idle": "2022-06-14T05:44:15.152515Z",
     "shell.execute_reply": "2022-06-14T05:44:15.151569Z"
    },
    "papermill": {
     "duration": 0.016062,
     "end_time": "2022-06-14T05:44:15.154470",
     "exception": false,
     "start_time": "2022-06-14T05:44:15.138408",
     "status": "completed"
    },
    "tags": []
   },
   "outputs": [],
   "source": [
    "#q5.hint()\n",
    "#q5.solution()"
   ]
  },
  {
   "cell_type": "markdown",
   "id": "fbce98f1",
   "metadata": {
    "papermill": {
     "duration": 0.009889,
     "end_time": "2022-06-14T05:44:15.173270",
     "exception": false,
     "start_time": "2022-06-14T05:44:15.163381",
     "status": "completed"
    },
    "tags": []
   },
   "source": [
    "# Keep going\n",
    "\n",
    "Move on to learn about **[indexing, selecting and assigning](https://www.kaggle.com/residentmario/indexing-selecting-assigning)**."
   ]
  },
  {
   "cell_type": "markdown",
   "id": "15483e9c",
   "metadata": {
    "papermill": {
     "duration": 0.008305,
     "end_time": "2022-06-14T05:44:15.190572",
     "exception": false,
     "start_time": "2022-06-14T05:44:15.182267",
     "status": "completed"
    },
    "tags": []
   },
   "source": [
    "---\n",
    "\n",
    "\n",
    "\n",
    "\n",
    "*Have questions or comments? Visit the [course discussion forum](https://www.kaggle.com/learn/pandas/discussion) to chat with other learners.*"
   ]
  }
 ],
 "metadata": {
  "kernelspec": {
   "display_name": "Python 3",
   "language": "python",
   "name": "python3"
  },
  "language_info": {
   "codemirror_mode": {
    "name": "ipython",
    "version": 3
   },
   "file_extension": ".py",
   "mimetype": "text/x-python",
   "name": "python",
   "nbconvert_exporter": "python",
   "pygments_lexer": "ipython3",
   "version": "3.7.12"
  },
  "papermill": {
   "default_parameters": {},
   "duration": 14.699775,
   "end_time": "2022-06-14T05:44:16.222981",
   "environment_variables": {},
   "exception": null,
   "input_path": "__notebook__.ipynb",
   "output_path": "__notebook__.ipynb",
   "parameters": {},
   "start_time": "2022-06-14T05:44:01.523206",
   "version": "2.3.4"
  }
 },
 "nbformat": 4,
 "nbformat_minor": 5
}
