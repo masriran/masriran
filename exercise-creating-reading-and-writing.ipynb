{
 "cells": [
  {
   "cell_type": "markdown",
   "id": "9bdd35e5",
   "metadata": {
    "papermill": {
     "duration": 0.010919,
     "end_time": "2022-06-14T05:31:38.366372",
     "exception": false,
     "start_time": "2022-06-14T05:31:38.355453",
     "status": "completed"
    },
    "tags": []
   },
   "source": [
    "**This notebook is an exercise in the [Pandas](https://www.kaggle.com/learn/pandas) course.  You can reference the tutorial at [this link](https://www.kaggle.com/residentmario/creating-reading-and-writing).**\n",
    "\n",
    "---\n"
   ]
  },
  {
   "cell_type": "code",
   "execution_count": null,
   "id": "dcbafbd8",
   "metadata": {
    "papermill": {
     "duration": 0.006286,
     "end_time": "2022-06-14T05:31:38.378936",
     "exception": false,
     "start_time": "2022-06-14T05:31:38.372650",
     "status": "completed"
    },
    "tags": []
   },
   "outputs": [],
   "source": []
  },
  {
   "cell_type": "code",
   "execution_count": null,
   "id": "471238d6",
   "metadata": {
    "papermill": {
     "duration": 0.005767,
     "end_time": "2022-06-14T05:31:38.391085",
     "exception": false,
     "start_time": "2022-06-14T05:31:38.385318",
     "status": "completed"
    },
    "tags": []
   },
   "outputs": [],
   "source": []
  },
  {
   "cell_type": "markdown",
   "id": "64eecd3c",
   "metadata": {
    "papermill": {
     "duration": 0.005825,
     "end_time": "2022-06-14T05:31:38.403229",
     "exception": false,
     "start_time": "2022-06-14T05:31:38.397404",
     "status": "completed"
    },
    "tags": []
   },
   "source": [
    "# Introduction\n",
    "\n",
    "The first step in most data analytics projects is reading the data file. In this exercise, you'll create Series and DataFrame objects, both by hand and by reading data files.\n",
    "\n",
    "Run the code cell below to load libraries you will need (including code to check your answers)."
   ]
  },
  {
   "cell_type": "code",
   "execution_count": 1,
   "id": "45d1d906",
   "metadata": {
    "execution": {
     "iopub.execute_input": "2022-06-14T05:31:38.417986Z",
     "iopub.status.busy": "2022-06-14T05:31:38.417087Z",
     "iopub.status.idle": "2022-06-14T05:31:40.427149Z",
     "shell.execute_reply": "2022-06-14T05:31:40.425811Z"
    },
    "papermill": {
     "duration": 2.021024,
     "end_time": "2022-06-14T05:31:40.430443",
     "exception": false,
     "start_time": "2022-06-14T05:31:38.409419",
     "status": "completed"
    },
    "tags": []
   },
   "outputs": [
    {
     "name": "stdout",
     "output_type": "stream",
     "text": [
      "Setup complete.\n"
     ]
    }
   ],
   "source": [
    "import pandas as pd\n",
    "pd.set_option('max_rows', 5)\n",
    "from learntools.core import binder; binder.bind(globals())\n",
    "from learntools.pandas.creating_reading_and_writing import *\n",
    "print(\"Setup complete.\")"
   ]
  },
  {
   "cell_type": "markdown",
   "id": "d755474f",
   "metadata": {
    "papermill": {
     "duration": 0.0061,
     "end_time": "2022-06-14T05:31:40.442790",
     "exception": false,
     "start_time": "2022-06-14T05:31:40.436690",
     "status": "completed"
    },
    "tags": []
   },
   "source": [
    "# Exercises"
   ]
  },
  {
   "cell_type": "markdown",
   "id": "9a7da56a",
   "metadata": {
    "papermill": {
     "duration": 0.005826,
     "end_time": "2022-06-14T05:31:40.454819",
     "exception": false,
     "start_time": "2022-06-14T05:31:40.448993",
     "status": "completed"
    },
    "tags": []
   },
   "source": [
    "## 1.\n",
    "\n",
    "In the cell below, create a DataFrame `fruits` that looks like this:\n",
    "\n",
    "![](https://i.imgur.com/Ax3pp2A.png)"
   ]
  },
  {
   "cell_type": "code",
   "execution_count": 2,
   "id": "4bbb38aa",
   "metadata": {
    "execution": {
     "iopub.execute_input": "2022-06-14T05:31:40.470008Z",
     "iopub.status.busy": "2022-06-14T05:31:40.469090Z",
     "iopub.status.idle": "2022-06-14T05:31:40.484926Z",
     "shell.execute_reply": "2022-06-14T05:31:40.483767Z"
    },
    "papermill": {
     "duration": 0.026957,
     "end_time": "2022-06-14T05:31:40.487959",
     "exception": false,
     "start_time": "2022-06-14T05:31:40.461002",
     "status": "completed"
    },
    "tags": []
   },
   "outputs": [
    {
     "data": {
      "application/javascript": [
       "parent.postMessage({\"jupyterEvent\": \"custom.exercise_interaction\", \"data\": {\"outcomeType\": 4, \"interactionType\": 1, \"questionType\": 1, \"questionId\": \"1_FruitDfCreation\", \"learnToolsVersion\": \"0.3.4\", \"valueTowardsCompletion\": 0.0, \"failureMessage\": \"\", \"exceptionClass\": \"\", \"trace\": \"\"}}, \"*\")"
      ],
      "text/plain": [
       "<IPython.core.display.Javascript object>"
      ]
     },
     "metadata": {},
     "output_type": "display_data"
    },
    {
     "data": {
      "text/markdown": [
       "<span style=\"color:#ccaa33\">Check:</span> When you've updated the starter code, `check()` will tell you whether your code is correct. You need to update the code that creates variable `fruits`"
      ],
      "text/plain": [
       "Check: When you've updated the starter code, `check()` will tell you whether your code is correct. You need to update the code that creates variable `fruits`"
      ]
     },
     "metadata": {},
     "output_type": "display_data"
    },
    {
     "data": {
      "text/markdown": [],
      "text/plain": [
       "<learntools.core.constants.PlaceholderValue at 0x7f7444f63050>"
      ]
     },
     "execution_count": 2,
     "metadata": {},
     "output_type": "execute_result"
    }
   ],
   "source": [
    "# Your code goes here. Create a dataframe matching the above diagram and assign it to the variable fruits.\n",
    "fruits = ____\n",
    "\n",
    "# Check your answer\n",
    "q1.check()\n",
    "fruits"
   ]
  },
  {
   "cell_type": "code",
   "execution_count": 3,
   "id": "e1dc9bf4",
   "metadata": {
    "execution": {
     "iopub.execute_input": "2022-06-14T05:31:40.504610Z",
     "iopub.status.busy": "2022-06-14T05:31:40.503511Z",
     "iopub.status.idle": "2022-06-14T05:31:40.508536Z",
     "shell.execute_reply": "2022-06-14T05:31:40.507426Z"
    },
    "papermill": {
     "duration": 0.015861,
     "end_time": "2022-06-14T05:31:40.511009",
     "exception": false,
     "start_time": "2022-06-14T05:31:40.495148",
     "status": "completed"
    },
    "tags": []
   },
   "outputs": [],
   "source": [
    "#q1.hint()\n",
    "#q1.solution()"
   ]
  },
  {
   "cell_type": "markdown",
   "id": "377de143",
   "metadata": {
    "papermill": {
     "duration": 0.006531,
     "end_time": "2022-06-14T05:31:40.525396",
     "exception": false,
     "start_time": "2022-06-14T05:31:40.518865",
     "status": "completed"
    },
    "tags": []
   },
   "source": [
    "## 2.\n",
    "\n",
    "Create a dataframe `fruit_sales` that matches the diagram below:\n",
    "\n",
    "![](https://i.imgur.com/CHPn7ZF.png)"
   ]
  },
  {
   "cell_type": "code",
   "execution_count": 4,
   "id": "846a4418",
   "metadata": {
    "execution": {
     "iopub.execute_input": "2022-06-14T05:31:40.542456Z",
     "iopub.status.busy": "2022-06-14T05:31:40.541935Z",
     "iopub.status.idle": "2022-06-14T05:31:40.554654Z",
     "shell.execute_reply": "2022-06-14T05:31:40.553421Z"
    },
    "papermill": {
     "duration": 0.025495,
     "end_time": "2022-06-14T05:31:40.557924",
     "exception": false,
     "start_time": "2022-06-14T05:31:40.532429",
     "status": "completed"
    },
    "tags": []
   },
   "outputs": [
    {
     "data": {
      "application/javascript": [
       "parent.postMessage({\"jupyterEvent\": \"custom.exercise_interaction\", \"data\": {\"outcomeType\": 4, \"interactionType\": 1, \"questionType\": 1, \"questionId\": \"2_FruitSalesDfCreation\", \"learnToolsVersion\": \"0.3.4\", \"valueTowardsCompletion\": 0.0, \"failureMessage\": \"\", \"exceptionClass\": \"\", \"trace\": \"\"}}, \"*\")"
      ],
      "text/plain": [
       "<IPython.core.display.Javascript object>"
      ]
     },
     "metadata": {},
     "output_type": "display_data"
    },
    {
     "data": {
      "text/markdown": [
       "<span style=\"color:#ccaa33\">Check:</span> When you've updated the starter code, `check()` will tell you whether your code is correct. You need to update the code that creates variable `fruit_sales`"
      ],
      "text/plain": [
       "Check: When you've updated the starter code, `check()` will tell you whether your code is correct. You need to update the code that creates variable `fruit_sales`"
      ]
     },
     "metadata": {},
     "output_type": "display_data"
    },
    {
     "data": {
      "text/markdown": [],
      "text/plain": [
       "<learntools.core.constants.PlaceholderValue at 0x7f7444f63050>"
      ]
     },
     "execution_count": 4,
     "metadata": {},
     "output_type": "execute_result"
    }
   ],
   "source": [
    "# Your code goes here. Create a dataframe matching the above diagram and assign it to the variable fruit_sales.\n",
    "fruit_sales = ____\n",
    "\n",
    "# Check your answer\n",
    "q2.check()\n",
    "fruit_sales"
   ]
  },
  {
   "cell_type": "code",
   "execution_count": 5,
   "id": "6faefad4",
   "metadata": {
    "execution": {
     "iopub.execute_input": "2022-06-14T05:31:40.576195Z",
     "iopub.status.busy": "2022-06-14T05:31:40.575044Z",
     "iopub.status.idle": "2022-06-14T05:31:40.579837Z",
     "shell.execute_reply": "2022-06-14T05:31:40.578651Z"
    },
    "papermill": {
     "duration": 0.016822,
     "end_time": "2022-06-14T05:31:40.582440",
     "exception": false,
     "start_time": "2022-06-14T05:31:40.565618",
     "status": "completed"
    },
    "tags": []
   },
   "outputs": [],
   "source": [
    "#q2.hint()\n",
    "#q2.solution()"
   ]
  },
  {
   "cell_type": "markdown",
   "id": "f02e88ef",
   "metadata": {
    "papermill": {
     "duration": 0.006856,
     "end_time": "2022-06-14T05:31:40.597074",
     "exception": false,
     "start_time": "2022-06-14T05:31:40.590218",
     "status": "completed"
    },
    "tags": []
   },
   "source": [
    "## 3.\n",
    "\n",
    "Create a variable `ingredients` with a Series that looks like:\n",
    "\n",
    "```\n",
    "Flour     4 cups\n",
    "Milk       1 cup\n",
    "Eggs     2 large\n",
    "Spam       1 can\n",
    "Name: Dinner, dtype: object\n",
    "```"
   ]
  },
  {
   "cell_type": "code",
   "execution_count": 6,
   "id": "76d075b6",
   "metadata": {
    "execution": {
     "iopub.execute_input": "2022-06-14T05:31:40.615869Z",
     "iopub.status.busy": "2022-06-14T05:31:40.614394Z",
     "iopub.status.idle": "2022-06-14T05:31:40.627315Z",
     "shell.execute_reply": "2022-06-14T05:31:40.626230Z"
    },
    "papermill": {
     "duration": 0.026588,
     "end_time": "2022-06-14T05:31:40.631296",
     "exception": false,
     "start_time": "2022-06-14T05:31:40.604708",
     "status": "completed"
    },
    "tags": []
   },
   "outputs": [
    {
     "data": {
      "application/javascript": [
       "parent.postMessage({\"jupyterEvent\": \"custom.exercise_interaction\", \"data\": {\"outcomeType\": 4, \"interactionType\": 1, \"questionType\": 2, \"questionId\": \"3_RecipeSeriesCreation\", \"learnToolsVersion\": \"0.3.4\", \"valueTowardsCompletion\": 0.0, \"failureMessage\": \"\", \"exceptionClass\": \"\", \"trace\": \"\"}}, \"*\")"
      ],
      "text/plain": [
       "<IPython.core.display.Javascript object>"
      ]
     },
     "metadata": {},
     "output_type": "display_data"
    },
    {
     "data": {
      "text/markdown": [
       "<span style=\"color:#ccaa33\">Check:</span> When you've updated the starter code, `check()` will tell you whether your code is correct. You need to update the code that creates variable `ingredients`"
      ],
      "text/plain": [
       "Check: When you've updated the starter code, `check()` will tell you whether your code is correct. You need to update the code that creates variable `ingredients`"
      ]
     },
     "metadata": {},
     "output_type": "display_data"
    },
    {
     "data": {
      "text/markdown": [],
      "text/plain": [
       "<learntools.core.constants.PlaceholderValue at 0x7f7444f63050>"
      ]
     },
     "execution_count": 6,
     "metadata": {},
     "output_type": "execute_result"
    }
   ],
   "source": [
    "ingredients = ____\n",
    "\n",
    "# Check your answer\n",
    "q3.check()\n",
    "ingredients"
   ]
  },
  {
   "cell_type": "code",
   "execution_count": 7,
   "id": "19c63877",
   "metadata": {
    "execution": {
     "iopub.execute_input": "2022-06-14T05:31:40.650801Z",
     "iopub.status.busy": "2022-06-14T05:31:40.650098Z",
     "iopub.status.idle": "2022-06-14T05:31:40.654502Z",
     "shell.execute_reply": "2022-06-14T05:31:40.653663Z"
    },
    "papermill": {
     "duration": 0.016479,
     "end_time": "2022-06-14T05:31:40.656818",
     "exception": false,
     "start_time": "2022-06-14T05:31:40.640339",
     "status": "completed"
    },
    "tags": []
   },
   "outputs": [],
   "source": [
    "#q3.hint()\n",
    "#q3.solution()"
   ]
  },
  {
   "cell_type": "markdown",
   "id": "c7ed073b",
   "metadata": {
    "papermill": {
     "duration": 0.007501,
     "end_time": "2022-06-14T05:31:40.672874",
     "exception": false,
     "start_time": "2022-06-14T05:31:40.665373",
     "status": "completed"
    },
    "tags": []
   },
   "source": [
    "## 4.\n",
    "\n",
    "Read the following csv dataset of wine reviews into a DataFrame called `reviews`:\n",
    "\n",
    "![](https://i.imgur.com/74RCZtU.png)\n",
    "\n",
    "The filepath to the csv file is `../input/wine-reviews/winemag-data_first150k.csv`. The first few lines look like:\n",
    "\n",
    "```\n",
    ",country,description,designation,points,price,province,region_1,region_2,variety,winery\n",
    "0,US,\"This tremendous 100% varietal wine[...]\",Martha's Vineyard,96,235.0,California,Napa Valley,Napa,Cabernet Sauvignon,Heitz\n",
    "1,Spain,\"Ripe aromas of fig, blackberry and[...]\",Carodorum Selección Especial Reserva,96,110.0,Northern Spain,Toro,,Tinta de Toro,Bodega Carmen Rodríguez\n",
    "```"
   ]
  },
  {
   "cell_type": "code",
   "execution_count": 8,
   "id": "76ae11dd",
   "metadata": {
    "execution": {
     "iopub.execute_input": "2022-06-14T05:31:40.693264Z",
     "iopub.status.busy": "2022-06-14T05:31:40.691766Z",
     "iopub.status.idle": "2022-06-14T05:31:40.705292Z",
     "shell.execute_reply": "2022-06-14T05:31:40.703825Z"
    },
    "papermill": {
     "duration": 0.026056,
     "end_time": "2022-06-14T05:31:40.707804",
     "exception": false,
     "start_time": "2022-06-14T05:31:40.681748",
     "status": "completed"
    },
    "tags": []
   },
   "outputs": [
    {
     "data": {
      "application/javascript": [
       "parent.postMessage({\"jupyterEvent\": \"custom.exercise_interaction\", \"data\": {\"outcomeType\": 4, \"interactionType\": 1, \"questionType\": 1, \"questionId\": \"4_ReadWineCsv\", \"learnToolsVersion\": \"0.3.4\", \"valueTowardsCompletion\": 0.0, \"failureMessage\": \"\", \"exceptionClass\": \"\", \"trace\": \"\"}}, \"*\")"
      ],
      "text/plain": [
       "<IPython.core.display.Javascript object>"
      ]
     },
     "metadata": {},
     "output_type": "display_data"
    },
    {
     "data": {
      "text/markdown": [
       "<span style=\"color:#ccaa33\">Check:</span> When you've updated the starter code, `check()` will tell you whether your code is correct. You need to update the code that creates variable `reviews`"
      ],
      "text/plain": [
       "Check: When you've updated the starter code, `check()` will tell you whether your code is correct. You need to update the code that creates variable `reviews`"
      ]
     },
     "metadata": {},
     "output_type": "display_data"
    },
    {
     "data": {
      "text/markdown": [],
      "text/plain": [
       "<learntools.core.constants.PlaceholderValue at 0x7f7444f63050>"
      ]
     },
     "execution_count": 8,
     "metadata": {},
     "output_type": "execute_result"
    }
   ],
   "source": [
    "reviews = ____\n",
    "\n",
    "# Check your answer\n",
    "q4.check()\n",
    "reviews"
   ]
  },
  {
   "cell_type": "code",
   "execution_count": 9,
   "id": "811315ad",
   "metadata": {
    "execution": {
     "iopub.execute_input": "2022-06-14T05:31:40.726394Z",
     "iopub.status.busy": "2022-06-14T05:31:40.725874Z",
     "iopub.status.idle": "2022-06-14T05:31:40.730932Z",
     "shell.execute_reply": "2022-06-14T05:31:40.729747Z"
    },
    "papermill": {
     "duration": 0.01761,
     "end_time": "2022-06-14T05:31:40.733713",
     "exception": false,
     "start_time": "2022-06-14T05:31:40.716103",
     "status": "completed"
    },
    "tags": []
   },
   "outputs": [],
   "source": [
    "#q4.hint()\n",
    "#q4.solution()"
   ]
  },
  {
   "cell_type": "markdown",
   "id": "7643fdca",
   "metadata": {
    "papermill": {
     "duration": 0.008619,
     "end_time": "2022-06-14T05:31:40.751084",
     "exception": false,
     "start_time": "2022-06-14T05:31:40.742465",
     "status": "completed"
    },
    "tags": []
   },
   "source": [
    "## 5.\n",
    "\n",
    "Run the cell below to create and display a DataFrame called `animals`:"
   ]
  },
  {
   "cell_type": "code",
   "execution_count": 10,
   "id": "73a8c863",
   "metadata": {
    "execution": {
     "iopub.execute_input": "2022-06-14T05:31:40.771886Z",
     "iopub.status.busy": "2022-06-14T05:31:40.770393Z",
     "iopub.status.idle": "2022-06-14T05:31:40.797268Z",
     "shell.execute_reply": "2022-06-14T05:31:40.795876Z"
    },
    "papermill": {
     "duration": 0.040493,
     "end_time": "2022-06-14T05:31:40.800919",
     "exception": false,
     "start_time": "2022-06-14T05:31:40.760426",
     "status": "completed"
    },
    "tags": []
   },
   "outputs": [
    {
     "data": {
      "text/html": [
       "<div>\n",
       "<style scoped>\n",
       "    .dataframe tbody tr th:only-of-type {\n",
       "        vertical-align: middle;\n",
       "    }\n",
       "\n",
       "    .dataframe tbody tr th {\n",
       "        vertical-align: top;\n",
       "    }\n",
       "\n",
       "    .dataframe thead th {\n",
       "        text-align: right;\n",
       "    }\n",
       "</style>\n",
       "<table border=\"1\" class=\"dataframe\">\n",
       "  <thead>\n",
       "    <tr style=\"text-align: right;\">\n",
       "      <th></th>\n",
       "      <th>Cows</th>\n",
       "      <th>Goats</th>\n",
       "    </tr>\n",
       "  </thead>\n",
       "  <tbody>\n",
       "    <tr>\n",
       "      <th>Year 1</th>\n",
       "      <td>12</td>\n",
       "      <td>22</td>\n",
       "    </tr>\n",
       "    <tr>\n",
       "      <th>Year 2</th>\n",
       "      <td>20</td>\n",
       "      <td>19</td>\n",
       "    </tr>\n",
       "  </tbody>\n",
       "</table>\n",
       "</div>"
      ],
      "text/plain": [
       "        Cows  Goats\n",
       "Year 1    12     22\n",
       "Year 2    20     19"
      ]
     },
     "execution_count": 10,
     "metadata": {},
     "output_type": "execute_result"
    }
   ],
   "source": [
    "animals = pd.DataFrame({'Cows': [12, 20], 'Goats': [22, 19]}, index=['Year 1', 'Year 2'])\n",
    "animals"
   ]
  },
  {
   "cell_type": "markdown",
   "id": "c4d2e976",
   "metadata": {
    "papermill": {
     "duration": 0.008327,
     "end_time": "2022-06-14T05:31:40.819000",
     "exception": false,
     "start_time": "2022-06-14T05:31:40.810673",
     "status": "completed"
    },
    "tags": []
   },
   "source": [
    "In the cell below, write code to save this DataFrame to disk as a csv file with the name `cows_and_goats.csv`."
   ]
  },
  {
   "cell_type": "code",
   "execution_count": 11,
   "id": "383e76e0",
   "metadata": {
    "execution": {
     "iopub.execute_input": "2022-06-14T05:31:40.841553Z",
     "iopub.status.busy": "2022-06-14T05:31:40.840632Z",
     "iopub.status.idle": "2022-06-14T05:31:40.849763Z",
     "shell.execute_reply": "2022-06-14T05:31:40.848815Z"
    },
    "papermill": {
     "duration": 0.022763,
     "end_time": "2022-06-14T05:31:40.852283",
     "exception": false,
     "start_time": "2022-06-14T05:31:40.829520",
     "status": "completed"
    },
    "tags": []
   },
   "outputs": [
    {
     "data": {
      "application/javascript": [
       "parent.postMessage({\"jupyterEvent\": \"custom.exercise_interaction\", \"data\": {\"outcomeType\": 2, \"failureMessage\": \"Expected file to exist with name `cows_and_goats.csv`\", \"interactionType\": 1, \"questionType\": 2, \"questionId\": \"5_SaveAnimalsCsv\", \"learnToolsVersion\": \"0.3.4\", \"valueTowardsCompletion\": 0.0, \"exceptionClass\": \"\", \"trace\": \"\"}}, \"*\")"
      ],
      "text/plain": [
       "<IPython.core.display.Javascript object>"
      ]
     },
     "metadata": {},
     "output_type": "display_data"
    },
    {
     "data": {
      "text/markdown": [
       "<span style=\"color:#cc3333\">Incorrect:</span> Expected file to exist with name `cows_and_goats.csv`"
      ],
      "text/plain": [
       "Incorrect: Expected file to exist with name `cows_and_goats.csv`"
      ]
     },
     "metadata": {},
     "output_type": "display_data"
    }
   ],
   "source": [
    "# Your code goes here\n",
    "\n",
    "# Check your answer\n",
    "q5.check()"
   ]
  },
  {
   "cell_type": "code",
   "execution_count": 12,
   "id": "7e146619",
   "metadata": {
    "execution": {
     "iopub.execute_input": "2022-06-14T05:31:40.873494Z",
     "iopub.status.busy": "2022-06-14T05:31:40.872846Z",
     "iopub.status.idle": "2022-06-14T05:31:40.877872Z",
     "shell.execute_reply": "2022-06-14T05:31:40.876772Z"
    },
    "papermill": {
     "duration": 0.018977,
     "end_time": "2022-06-14T05:31:40.880553",
     "exception": false,
     "start_time": "2022-06-14T05:31:40.861576",
     "status": "completed"
    },
    "tags": []
   },
   "outputs": [],
   "source": [
    "#q5.hint()\n",
    "#q5.solution()"
   ]
  },
  {
   "cell_type": "markdown",
   "id": "6e136772",
   "metadata": {
    "papermill": {
     "duration": 0.008775,
     "end_time": "2022-06-14T05:31:40.898251",
     "exception": false,
     "start_time": "2022-06-14T05:31:40.889476",
     "status": "completed"
    },
    "tags": []
   },
   "source": [
    "# Keep going\n",
    "\n",
    "Move on to learn about **[indexing, selecting and assigning](https://www.kaggle.com/residentmario/indexing-selecting-assigning)**."
   ]
  },
  {
   "cell_type": "markdown",
   "id": "dd59abd3",
   "metadata": {
    "papermill": {
     "duration": 0.008434,
     "end_time": "2022-06-14T05:31:40.915804",
     "exception": false,
     "start_time": "2022-06-14T05:31:40.907370",
     "status": "completed"
    },
    "tags": []
   },
   "source": [
    "---\n",
    "\n",
    "\n",
    "\n",
    "\n",
    "*Have questions or comments? Visit the [course discussion forum](https://www.kaggle.com/learn/pandas/discussion) to chat with other learners.*"
   ]
  }
 ],
 "metadata": {
  "kernelspec": {
   "display_name": "Python 3",
   "language": "python",
   "name": "python3"
  },
  "language_info": {
   "codemirror_mode": {
    "name": "ipython",
    "version": 3
   },
   "file_extension": ".py",
   "mimetype": "text/x-python",
   "name": "python",
   "nbconvert_exporter": "python",
   "pygments_lexer": "ipython3",
   "version": "3.7.12"
  },
  "papermill": {
   "default_parameters": {},
   "duration": 14.849211,
   "end_time": "2022-06-14T05:31:41.749827",
   "environment_variables": {},
   "exception": null,
   "input_path": "__notebook__.ipynb",
   "output_path": "__notebook__.ipynb",
   "parameters": {},
   "start_time": "2022-06-14T05:31:26.900616",
   "version": "2.3.4"
  }
 },
 "nbformat": 4,
 "nbformat_minor": 5
}
